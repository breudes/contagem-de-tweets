{
  "nbformat": 4,
  "nbformat_minor": 0,
  "metadata": {
    "colab": {
      "name": "trabalho_redes.ipynb",
      "provenance": [],
      "collapsed_sections": [],
      "authorship_tag": "ABX9TyMbY0CRGRJQuRuainNc86C2",
      "include_colab_link": true
    },
    "kernelspec": {
      "name": "python3",
      "display_name": "Python 3"
    },
    "language_info": {
      "name": "python"
    }
  },
  "cells": [
    {
      "cell_type": "markdown",
      "metadata": {
        "id": "view-in-github",
        "colab_type": "text"
      },
      "source": [
        "<a href=\"https://colab.research.google.com/github/breudes/contagem-de-tweets/blob/master/tweets_counts.ipynb\" target=\"_parent\"><img src=\"https://colab.research.google.com/assets/colab-badge.svg\" alt=\"Open In Colab\"/></a>"
      ]
    },
    {
      "cell_type": "markdown",
      "metadata": {
        "id": "6r6L5XbrupQJ"
      },
      "source": [
        "Importa as bibliotecas e recebe o 'bearer token' (chave necessário pra utilizar o tipo de requisição feita pela API do twitter que vamos utilizar, nesse caso é o Tweet Counts) do usuário \n"
      ]
    },
    {
      "cell_type": "code",
      "metadata": {
        "colab": {
          "base_uri": "https://localhost:8080/"
        },
        "id": "Q6vDenrluiYk",
        "outputId": "49bb0e4d-6d94-4e2b-d6c5-557d40a961f9"
      },
      "source": [
        "import sys\n",
        "import requests\n",
        "import json\n",
        "import datetime\n",
        "import matplotlib.pyplot as plt\n",
        "import numpy as np\n",
        "\n",
        "bearer_token = input(\"Informe o 'bearer token' da sua conta de desenvolvedor no Twitter: \")\n",
        "keywords = input(\"Informe as palavras chaves para a busca: \")\n",
        "\n",
        "def bearer_oauth(r):\n",
        "    r.headers[\"Authorization\"] = f\"Bearer {bearer_token}\"\n",
        "    r.headers[\"User-Agent\"] = \"v2RecentSearchPython\"\n",
        "    return r"
      ],
      "execution_count": null,
      "outputs": [
        {
          "output_type": "stream",
          "text": [
            "Informe o 'bearer token' da sua conta de desenvolvedor no Twitter: AAAAAAAAAAAAAAAAAAAAAEwRSQEAAAAAf97naAq%2BsPgVcE3%2BfRAJCc%2F4IN4%3DMXyFlxNeaKykTGpbjRUB0aW4kcR6yAOo0f09w1J0jPM3E4gsdz\n",
            "Informe as palavras chaves para a busca: vacina\n"
          ],
          "name": "stdout"
        }
      ]
    },
    {
      "cell_type": "markdown",
      "metadata": {
        "id": "YQGmrnh-vfwh"
      },
      "source": [
        "Agora, vamos receber as palavras chaves (em inglês, *keywords*) para realizar a busca via API. Além disso, já damos início as requisições."
      ]
    },
    {
      "cell_type": "code",
      "metadata": {
        "colab": {
          "base_uri": "https://localhost:8080/"
        },
        "id": "p0ZcUa6-vnab",
        "outputId": "ea0251c4-fb5c-4afa-fb98-53c75c416fee"
      },
      "source": [
        "# parâmetros definidos pelo o usuário\n",
        "\n",
        "# faz um requisição do tipo GET com a url e parâmetros informados, assim como o bearer_token necessário para o acesso via API\n",
        "def connect_to_endpoint(url, params):\n",
        "      response = requests.get(url, auth=bearer_oauth, params=params)\n",
        "      print(response.status_code)\n",
        "      if response.status_code != 200:\n",
        "          raise Exception(response.status_code, response.text)\n",
        "      return response.json()\n",
        "\n",
        "# url definida \n",
        "url = \"https://api.twitter.com/2/tweets/counts/recent\"\n",
        "\n",
        "# neste trabalho são feitos duas requisições: uma referente as últimas 24 horas e a outra referente aos últimos 7 dias. Sendo assim, precisamos definir variaveis do tipo data para definir o intervalo de tempo da primeira requisição.\n",
        "# definindo a data (e hora) atual e a data correspondente a 24 atrás\n",
        "\n",
        "# data (e hora) atual\n",
        "current_date_time = datetime.datetime.now() - datetime.timedelta(hours = 3)\n",
        "str_current_date = current_date_time.strftime('%Y-%m-%dT%H:%M:%Sz') # converte data para o formato definido\n",
        "print(str_current_date)\n",
        "# data correspondente a 24 atrás\n",
        "last_day_date_time = current_date_time - datetime.timedelta(hours = 24)\n",
        "str_last_date = last_day_date_time.strftime('%Y-%m-%dT%H:%M:%Sz') # converte data para o formato definido"
      ],
      "execution_count": null,
      "outputs": [
        {
          "output_type": "stream",
          "text": [
            "2021-08-23T19:05:53z\n"
          ],
          "name": "stdout"
        }
      ]
    },
    {
      "cell_type": "code",
      "metadata": {
        "colab": {
          "base_uri": "https://localhost:8080/"
        },
        "id": "jqOliWc-xMLx",
        "outputId": "f37af34a-c515-41b8-c063-724727b266ac"
      },
      "source": [
        "# cria a query para a primeira requisição, com as palavras chaves e com a data de início (a data final opcional, ela padrão é a data atual menos 30 segundos)\n",
        "query_params = {\n",
        "      'query': keywords,\n",
        "      'start_time': str_last_date,\n",
        "      'end_time': str_current_date\n",
        "}\n",
        "\n",
        "# realiza a requisição e recebe o objeto JSON\n",
        "first_json_response = connect_to_endpoint(url, query_params) # primeira requisição: contagem das últimas 24 horas\n",
        "\n",
        "# transforma o objeto JSON em um dicionário Python\n",
        "first_json_array = json.loads(json.dumps(first_json_response, indent=4, sort_keys=True))\n",
        "\n",
        "# soma total da contagem da requisição\n",
        "first_total_counts = first_json_array['meta']['total_tweet_count']\n",
        "\n",
        "# contagem de cada hora das últimas 24 horas\n",
        "first_counts_array = []\n",
        "first_hour_array = []\n",
        "\n",
        "for x in range(len(first_json_array['data'])):\n",
        "      # cada hora de início da contagem\n",
        "      hour = datetime.datetime.strptime(first_json_array['data'][x]['start'], \"%Y-%m-%dT%H:%M:%S.%fZ\").hour         \n",
        "      first_hour_array.append(hour)\n",
        "      \n",
        "      # cada contagem por hora\n",
        "      first_count = first_json_array['data'][x]['tweet_count']\n",
        "      first_counts_array.append(first_count)\n",
        "\n",
        "print(first_counts_array)\n"
      ],
      "execution_count": null,
      "outputs": [
        {
          "output_type": "stream",
          "text": [
            "200\n",
            "[2581, 2670, 2689, 2780, 3248, 2887, 2464, 1972, 1391, 821, 477, 258, 292, 429, 900, 1889, 2993, 4127, 5384, 6020, 6062, 5884, 5255, 4647, 465]\n"
          ],
          "name": "stdout"
        }
      ]
    },
    {
      "cell_type": "code",
      "metadata": {
        "colab": {
          "base_uri": "https://localhost:8080/"
        },
        "id": "05wGycOD14RH",
        "outputId": "4c924813-9de3-4a3d-85cf-92e9fe1e52df"
      },
      "source": [
        "# cria a query para a segunda requisição, com as palavras chaves\n",
        "second_query_params = {\n",
        "      'query': keywords,\n",
        "      'granularity': 'day'\n",
        "}\n",
        "\n",
        "# realiza a requisição e recebe o objeto JSON\n",
        "second_json_response = connect_to_endpoint(url, second_query_params) # primeira requisição: contagem das últimas 24 horas\n",
        "\n",
        "# transforma o objeto JSON em um dicionário Python\n",
        "second_json_array = json.loads(json.dumps(second_json_response, indent=4, sort_keys=True))\n",
        "\n",
        "# soma total da contagem da requisição\n",
        "second_total_counts = second_json_array['meta']['total_tweet_count']\n",
        "\n",
        "# contagem de cada hora das últimas 24 horas\n",
        "second_counts_array = []\n",
        "second_days_array = []\n",
        "\n",
        "for x in range(len(second_json_array['data'])):\n",
        "      # cada hora de início da contagem\n",
        "      day = datetime.datetime.strptime(second_json_array['data'][x]['start'], \"%Y-%m-%dT%H:%M:%S.%fZ\").day         \n",
        "      second_days_array.append(day)\n",
        "      \n",
        "      # cada contagem por hora\n",
        "      second_count = second_json_array['data'][x]['tweet_count']\n",
        "      second_counts_array.append(second_count)\n",
        "\n",
        "# ajuste nos arrays resultantes\n",
        "\n",
        "# ajuste nos resultados da primeira requisição\n",
        "first_counts_array[1] += first_counts_array[0]\n",
        "first_counts_array.pop(0)\n",
        "\n",
        "first_hour_array.pop(0)\n",
        "\n",
        "print(first_counts_array)\n",
        "\n",
        "# ajuste nos resultados da segunda requisição\n",
        "second_length = len(second_counts_array)\n",
        "second_counts_array[second_length-2] += second_counts_array[second_length-1]\n",
        "second_counts_array.pop(second_length-1)\n",
        "\n",
        "second_days_array.pop(second_length-1)\n"
      ],
      "execution_count": null,
      "outputs": [
        {
          "output_type": "stream",
          "text": [
            "200\n",
            "[5251, 2689, 2780, 3248, 2887, 2464, 1972, 1391, 821, 477, 258, 292, 429, 900, 1889, 2993, 4127, 5384, 6020, 6062, 5884, 5255, 4647, 465]\n"
          ],
          "name": "stdout"
        },
        {
          "output_type": "execute_result",
          "data": {
            "text/plain": [
              "23"
            ]
          },
          "metadata": {},
          "execution_count": 71
        }
      ]
    },
    {
      "cell_type": "code",
      "metadata": {
        "colab": {
          "base_uri": "https://localhost:8080/",
          "height": 728
        },
        "id": "yKuMJSyH2iD_",
        "outputId": "c7e50346-7f09-4214-cb5a-d7fc6b619a5a"
      },
      "source": [
        "# geração dos dois gráficos resultantes\n",
        "\n",
        "# primeiro gráfico - contagem de tweets por hora\n",
        "first_labels = first_hour_array\n",
        "first_means = first_counts_array\n",
        "\n",
        "x = np.arange(len(first_labels))  # localização do label\n",
        "width = 0.35  # comprimento das barras\n",
        "\n",
        "fig, (ax,ax2) = plt.subplots(nrows=1, ncols=2)\n",
        "fig.set_size_inches(27, 10)\n",
        "rects1 = ax.bar(x - width/2, first_means, width, label='Tweets por hora')\n",
        "\n",
        "ax.set_ylabel('Contagem de tweets') # label da coordenada Y\n",
        "ax.set_xlabel('Horas') # label da coordenada X\n",
        "\n",
        "ax.set_title('Contagem de tweets das últimas 24 horas \\n Palavras chaves: '+str(keywords) +'\\n Contagem total: '+str(first_total_counts)) # titulo do gráfico\n",
        "\n",
        "ax.set_xticks(x)\n",
        "ax.set_xticklabels(first_labels)\n",
        "\n",
        "ax.legend()\n",
        "fig.tight_layout()\n",
        "\n",
        "# segundo gráfico - contagem de tweets dos últimos 7 dias\n",
        "second_labels = second_days_array\n",
        "second_means = second_counts_array\n",
        "\n",
        "x2 = np.arange(len(second_labels))  # the label locations\n",
        "\n",
        "rects2 = ax2.bar(x2 - width/2, second_means, width, label='Tweets por dia')\n",
        "\n",
        "ax2.set_ylabel('Contagem de tweets')\n",
        "ax2.set_xlabel('Dias')\n",
        "ax2.set_title('Contagem de tweets da última semana \\n Palavras chaves: '+str(keywords) +'\\n Contagem total: '+str(second_total_counts))\n",
        "ax2.set_xticks(x2)\n",
        "ax2.set_xticklabels(second_labels)\n",
        "\n",
        "\n",
        "\n",
        "ax2.legend()\n",
        "fig.tight_layout()\n",
        "                \n",
        "# mostra ambos os gráficos\n",
        "plt.show()"
      ],
      "execution_count": null,
      "outputs": [
        {
          "output_type": "display_data",
          "data": {
            "image/png": "[encoded data removed]",
            "text/plain": [
              "<Figure size 1944x720 with 2 Axes>"
            ]
          },
          "metadata": {
            "needs_background": "light"
          }
        }
      ]
    }
  ]
}
